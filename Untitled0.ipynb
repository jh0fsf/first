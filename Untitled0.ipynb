{
  "nbformat": 4,
  "nbformat_minor": 0,
  "metadata": {
    "colab": {
      "provenance": [],
      "authorship_tag": "ABX9TyNprFTqebXeXq+DfGo9Uldw",
      "include_colab_link": true
    },
    "kernelspec": {
      "name": "python3",
      "display_name": "Python 3"
    },
    "language_info": {
      "name": "python"
    }
  },
  "cells": [
    {
      "cell_type": "markdown",
      "metadata": {
        "id": "view-in-github",
        "colab_type": "text"
      },
      "source": [
        "<a href=\"https://colab.research.google.com/github/jh0fsf/first/blob/main/Untitled0.ipynb\" target=\"_parent\"><img src=\"https://colab.research.google.com/assets/colab-badge.svg\" alt=\"Open In Colab\"/></a>"
      ]
    },
    {
      "cell_type": "markdown",
      "source": [
        "\n",
        "\n",
        "> 들여쓴 블록\n",
        "\n"
      ],
      "metadata": {
        "id": "Dn8CHKVPwvy4"
      }
    },
    {
      "cell_type": "markdown",
      "source": [
        "사용자로부터 3개의 정수를 받아 평균을 계산하는 알고리즘과 이것을 구현한다"
      ],
      "metadata": {
        "id": "oQUis8MuwySi"
      }
    },
    {
      "cell_type": "code",
      "execution_count": 10,
      "metadata": {
        "colab": {
          "base_uri": "https://localhost:8080/"
        },
        "id": "yFNKTJfvuoi_",
        "outputId": "bf92492f-5138-4632-bd6a-58cfa0826294"
      },
      "outputs": [
        {
          "output_type": "stream",
          "name": "stdout",
          "text": [
            "n1의 값을 입력하시오4\n",
            "n2의 값을 입력하시오5\n",
            "n3의 값을 입력하시오6\n",
            "합= 15 평균= 5.0\n"
          ]
        }
      ],
      "source": [
        "n1=int(input(\"n1의 값을 입력하시오\")) #사용자에게 n1을 정수형을 받아라\n",
        "n2=int(input(\"n2의 값을 입력하시오\")) #사용자에게 n2을 정수형을 받아라\n",
        "n3=int(input(\"n3의 값을 입력하시오\")) #사용자에게 n3을 정수형을 받아라\n",
        "total=n1+n2+n3                        #total변수에 n1,n2,n3의 합을 저장하라\n",
        "average=total/3                        #average와 total을 3을 나눈 평균값을 저장하라\n",
        "print('합=',total, '평균=',average)   #합과 변수 total, 평균과 average 값을 화면에 출력하라."
      ]
    }
  ]
}